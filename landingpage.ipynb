{
 "cells": [
  {
   "cell_type": "code",
   "execution_count": null,
   "metadata": {},
   "outputs": [],
   "source": [
    "# !pip install crewai[tools]\n",
    "# !pip install langchain\n",
    "# !pip install qdrant-client\n",
    "# !pip install langchain-groq\n",
    "# !pip install sentence-transformers"
   ]
  },
  {
   "cell_type": "markdown",
   "metadata": {},
   "source": [
    "## Load data"
   ]
  },
  {
   "cell_type": "code",
   "execution_count": 13,
   "metadata": {},
   "outputs": [],
   "source": [
    "import pandas as pd\n",
    "df = pd.read_csv(\"data/Adidas_final.csv\", sep=';')"
   ]
  },
  {
   "cell_type": "code",
   "execution_count": 14,
   "metadata": {},
   "outputs": [
    {
     "name": "stdout",
     "output_type": "stream",
     "text": [
      "<class 'pandas.core.frame.DataFrame'>\n",
      "RangeIndex: 2625 entries, 0 to 2624\n",
      "Data columns (total 12 columns):\n",
      " #   Column         Non-Null Count  Dtype \n",
      "---  ------         --------------  ----- \n",
      " 0   URL            2625 non-null   object\n",
      " 1   Product Name   2625 non-null   object\n",
      " 2   Product ID     2625 non-null   object\n",
      " 3   Listing Price  2625 non-null   int64 \n",
      " 4   Sale Price     2625 non-null   int64 \n",
      " 5   Discount       2625 non-null   int64 \n",
      " 6   Brand          2625 non-null   object\n",
      " 7   Description    2625 non-null   object\n",
      " 8   Rating         2625 non-null   int64 \n",
      " 9   Reviews        2625 non-null   int64 \n",
      " 10  Images         2625 non-null   object\n",
      " 11  Last Visited   2625 non-null   object\n",
      "dtypes: int64(5), object(7)\n",
      "memory usage: 246.2+ KB\n"
     ]
    }
   ],
   "source": [
    "df.info()"
   ]
  },
  {
   "cell_type": "code",
   "execution_count": 15,
   "metadata": {},
   "outputs": [
    {
     "data": {
      "text/plain": [
       "Brand\n",
       "CORE / NEO           1111\n",
       "ORIGINALS             908\n",
       "SPORT PERFORMANCE     606\n",
       "Name: count, dtype: int64"
      ]
     },
     "execution_count": 15,
     "metadata": {},
     "output_type": "execute_result"
    }
   ],
   "source": [
    "df.Brand.value_counts()"
   ]
  },
  {
   "cell_type": "code",
   "execution_count": 16,
   "metadata": {},
   "outputs": [],
   "source": [
    "def extended_descriptin(row):\n",
    "    ex_desc = f\"Poduct Name: {row['Product Name'].strip()} \\nDescription of product: {row['Description'].strip()}\"\n",
    "    return ex_desc"
   ]
  },
  {
   "cell_type": "code",
   "execution_count": 17,
   "metadata": {},
   "outputs": [],
   "source": [
    "df['ExtendedDescription'] = df.apply(extended_descriptin, axis=1)"
   ]
  },
  {
   "cell_type": "code",
   "execution_count": 18,
   "metadata": {},
   "outputs": [],
   "source": [
    "texts = df['ExtendedDescription'].to_list()"
   ]
  },
  {
   "cell_type": "code",
   "execution_count": 19,
   "metadata": {},
   "outputs": [
    {
     "name": "stdout",
     "output_type": "stream",
     "text": [
      "Poduct Name: Women's adidas Originals NMD_Racer Primeknit Shoes \n",
      "Description of product: Channeling the streamlined look of an '80s racer, these shoes are updated with modern features. The foot-hugging adidas Primeknit upper offers a soft, breathable feel. The Boost midsole provides responsive comfort accented with a contrast-color EVA heel plug. Embroidered details add a distinctive finish. \n",
      "\n"
     ]
    }
   ],
   "source": [
    "print(texts[0],\"\\n\")"
   ]
  },
  {
   "cell_type": "markdown",
   "metadata": {},
   "source": [
    "## Encode Texts"
   ]
  },
  {
   "cell_type": "code",
   "execution_count": 20,
   "metadata": {},
   "outputs": [
    {
     "name": "stderr",
     "output_type": "stream",
     "text": [
      "c:\\Users\\ASUS\\anaconda3\\envs\\new\\lib\\site-packages\\huggingface_hub\\file_download.py:1132: FutureWarning: `resume_download` is deprecated and will be removed in version 1.0.0. Downloads always resume when possible. If you want to force a new download, use `force_download=True`.\n",
      "  warnings.warn(\n",
      "c:\\Users\\ASUS\\anaconda3\\envs\\new\\lib\\site-packages\\transformers\\models\\bert\\modeling_bert.py:435: UserWarning: 1Torch was not compiled with flash attention. (Triggered internally at ..\\aten\\src\\ATen\\native\\transformers\\cuda\\sdp_utils.cpp:263.)\n",
      "  attn_output = torch.nn.functional.scaled_dot_product_attention(\n"
     ]
    }
   ],
   "source": [
    "import torch\n",
    "from sentence_transformers import SentenceTransformer\n",
    "device_to_use = torch.device('cuda') if torch.cuda.is_available() else \"cpu\"\n",
    "model = SentenceTransformer(\"BAAI/bge-large-en-v1.5\", device=device_to_use)\n",
    "vectors = model.encode(texts)"
   ]
  },
  {
   "cell_type": "markdown",
   "metadata": {},
   "source": [
    "## Qdrant Setup"
   ]
  },
  {
   "cell_type": "code",
   "execution_count": 21,
   "metadata": {},
   "outputs": [
    {
     "name": "stderr",
     "output_type": "stream",
     "text": [
      "C:\\Users\\ASUS\\AppData\\Local\\Temp\\ipykernel_7148\\2675290693.py:7: DeprecationWarning: `recreate_collection` method is deprecated and will be removed in the future. Use `collection_exists` to check collection existence and `create_collection` instead.\n",
      "  client.recreate_collection(\n"
     ]
    }
   ],
   "source": [
    "from qdrant_client import QdrantClient\n",
    "from qdrant_client.models import Distance, VectorParams\n",
    "\n",
    "# Initialize the client\n",
    "\n",
    "client = QdrantClient(\":memory:\",)\n",
    "client.recreate_collection(\n",
    "    collection_name=\"adidas_products\",\n",
    "    vectors_config=VectorParams(size=1024, distance=Distance.COSINE),\n",
    ")\n",
    "\n",
    "client.upload_collection(\n",
    "    collection_name=\"adidas_products\",\n",
    "    ids=[i for i in range(len(texts))],\n",
    "    vectors=vectors,\n",
    "    parallel=4,\n",
    "    max_retries=3,\n",
    ")"
   ]
  },
  {
   "cell_type": "code",
   "execution_count": 28,
   "metadata": {},
   "outputs": [],
   "source": [
    "def get_matches(text):\n",
    "    query_vector = model.encode(text)\n",
    "    hits = client.search(\n",
    "        collection_name=\"adidas_products\",\n",
    "        query_vector=query_vector,\n",
    "        limit=20 # Return 20 closest points\n",
    "    )\n",
    "    products = list(set([df['Product Name'][i.id] for i in hits]))\n",
    "    descriptions = list(set([df['Description'][i.id] for i in hits]))\n",
    "    desc=\"\"\n",
    "    pdts=\"\"\n",
    "    for x, y in zip(descriptions, products):\n",
    "        desc = desc + x + \"\\n\"\n",
    "        pdts = pdts + y + ', '\n",
    "    return desc, pdts"
   ]
  },
  {
   "cell_type": "code",
   "execution_count": 29,
   "metadata": {},
   "outputs": [
    {
     "name": "stdout",
     "output_type": "stream",
     "text": [
      "(\"Tennis-inspired style with a modern look. These men's shoes have the soft feel of a suede upper. A rubber cupsole gives comfort and ease to every stride.\\nKeep your cool when it's all on the line. These lightweight tennis shoes have a breathable mesh upper to keep air circulating when the heat is on. Their foot-hugging construction and supportive chassis offer a stable feel. The durable outsole gives a firm grip with every serve and slide as you improve your game.\\nServe up some style when you hit the club. The full synthetic upper provides unmatched durability. A cushioned EVA midsole keeps you comfortable from the moment you pull them on. The durable outsole stands up to every serve and slide as you improve your game.\\nYou play every single day so you need a shoe that's both durable and comfortable. These adidas tennis shoes have a cushioned midsole for enhanced comfort whether you're working on your groundstroke or playing best-of-five. A durable and supportive build lets you play on any type of court surface.\\nStay patient and consistent on the court. These adidas tennis shoes feature a breathable mesh upper that hugs your foot, locking you in as you step into every swing. Return serve in comfort. Stay on your toes and change directions in an instant.\\nThese tennis-inspired shoes elevate their style game off the court with a knit upper and decorative laces. The slip-on look has a seamless, sock-like construction with an ultra-soft Cloudfoam sockliner for added comfort throughout your day.\\nServe up some style when you hit the club. The breathable mesh upper on these lightweight tennis shoes hugs your foot to support every move. A cushioned midsole keeps you comfortable from the moment you pull them on. The durable outsole stands up to every serve and slide as you improve your game.\\nThe adidas steadfast tennis shoes for men. A new, modern design that delivers quality and comfort for the recreational tennis player. The Synthetic & Mesh combination on the upper makes it lightweight, breathable and durable. They come with Injected EVA midsole for long term lightweight durability while the adiwear outsole provides durability in high wear areas.\\nTake to the court with confidence in these men's tennis shoes. Designed for the casual player, they feature a durable and stable leather upper with mesh at the heel. Lightweight cushioning keeps you comfortable during long rallies, while a rubber outsole delivers strong grip.\\n\", \"Men's Tennis Steadfast 19 Shoes, Men's adidas Tennis Courtsmash Shoes, Men's Sport Inspired Court Adapt Shoes , Men's adidas Tennis Steadfast 19 Shoes, Men's Tennis Woundrous II Shoes, Men's adidas Tennis GameCourt Shoes, Men's adidas Sport Inspired VL Court 2.0 Shoes, Men's Tennis Laceless Hard Court Shoes, Men's adidas Tennis Woundrous II Shoes, \")\n"
     ]
    }
   ],
   "source": [
    "print(get_matches(\"men tennis shoes\"))"
   ]
  },
  {
   "cell_type": "markdown",
   "metadata": {},
   "source": [
    "## Groq API"
   ]
  },
  {
   "cell_type": "code",
   "execution_count": 30,
   "metadata": {},
   "outputs": [],
   "source": [
    "from langchain_groq import ChatGroq"
   ]
  },
  {
   "cell_type": "code",
   "execution_count": 14,
   "metadata": {},
   "outputs": [],
   "source": [
    "groq = ChatGroq(temperature=0.1, groq_api_key=\"gsk-your-groq-api-key\", \n",
    "                model_name=\"llama3-8b-8192\")"
   ]
  },
  {
   "cell_type": "code",
   "execution_count": 15,
   "metadata": {},
   "outputs": [],
   "source": [
    "# system = \"You are a helpful assistant.\"\n",
    "# human = \"{text}\"\n",
    "# prompt = ChatPromptTemplate.from_messages([(\"system\", system), (\"human\", human)])\n",
    "\n",
    "# chain = prompt | groq\n",
    "# chain.invoke({\"text\": \"Explain the importance of low latency LLMs.\"})"
   ]
  },
  {
   "cell_type": "code",
   "execution_count": 16,
   "metadata": {},
   "outputs": [],
   "source": [
    "from langchain_community.chat_models import ChatOllama\n",
    "\n",
    "local_llm = \"phi3\"\n",
    "\n",
    "ollama = ChatOllama(model=local_llm, temperature=0)"
   ]
  },
  {
   "cell_type": "markdown",
   "metadata": {},
   "source": [
    "## CrewAI system integration"
   ]
  },
  {
   "cell_type": "code",
   "execution_count": 51,
   "metadata": {},
   "outputs": [],
   "source": [
    "from crewai import Agent, Task, Crew\n",
    "\n",
    "def agent_pipeline(query):\n",
    "    desc, products = get_matches(query)\n",
    "    tagline_agent = Agent(role = \"Marketing and Copy writing Head\",\n",
    "                        goal = \"\"\"Provide a catchy and creative tagline from the description that is provided JUST A TAGLINE.\"\"\",\n",
    "                        backstory = \"\"\"You are an excellent Marketing and Copy writing genius that doesnt explain things just gives results, who can sell any product via marketing the shit out of it.\"\"\",\n",
    "                        allow_delegation = False,\n",
    "                        verbose = True,\n",
    "                        llm = groq)\n",
    "\n",
    "    explainindetail_agent = Agent(role = \"Senior Marketing and Copy writing Executive\",\n",
    "                        goal = \"\"\"Provide the pros of using this product according to the product and highlight the strong points..\"\"\",\n",
    "                        backstory = \"\"\"You are an excellent Marketing and Copy writing genius that doesnt explain things just gives results, who can sell any product via marketing the shit out of it.\"\"\",\n",
    "                        allow_delegation = False,\n",
    "                        verbose = True,\n",
    "                        llm = groq)\n",
    "\n",
    "    listproducts_agent = Agent(role = \"Marketing and Copy writing Analyst\",\n",
    "                        goal = \"\"\"You'll be given a list of products, list them in presentable manner with 1 line each that's it.\"\"\",\n",
    "                        backstory = \"\"\"You are an excellent Marketing and Copy writing genius that doesnt explain things just gives results, who can sell any product via marketing the shit out of it.\"\"\",\n",
    "                        allow_delegation = False,\n",
    "                        verbose = True,\n",
    "                        llm = groq)\n",
    "    # manager_agent = Agent(role = \"Manager\",\n",
    "    #                     goal = \"\"\"You'll be managing all the other agents.\"\"\",\n",
    "    #                     backstory = \"\"\"You are an excellent man power management genius that doesnt explain things just gives results, who can maager any team via managing the shit out of it.\"\"\",\n",
    "    #                     allow_delegation = False,\n",
    "    #                     verbose = True,\n",
    "    #                     llm = groq,\n",
    "    #                     )\n",
    "\n",
    "\n",
    "    task1 = Task (description=desc,\n",
    "                agent = tagline_agent,\n",
    "                expected_output=\"A tagline for the product.\")\n",
    "\n",
    "    task2 = Task (description=desc,\n",
    "                agent = explainindetail_agent,\n",
    "                expected_output=\"A description for the product.\")\n",
    "\n",
    "    task3 = Task(description=products,\n",
    "                agent=listproducts_agent,\n",
    "                expected_output=\"A numbered 1,2,3,.. list of products from the provided list.\")\n",
    "\n",
    "    results = []\n",
    "    for agent, task in zip([tagline_agent, explainindetail_agent, listproducts_agent],[task1, task2, task3]):\n",
    "        crew1 = Crew(agents=[agent],\n",
    "                tasks=[task],\n",
    "                verbose=3,\n",
    "                # manager_llm=groq\n",
    "            )\n",
    "        result = crew1.kickoff()\n",
    "        results.append(result)\n",
    "    \n",
    "    return {'tagline':results[0],'product_description':results[1],'products_list':results[2]}    "
   ]
  },
  {
   "cell_type": "markdown",
   "metadata": {},
   "source": [
    "## Inference"
   ]
  },
  {
   "cell_type": "code",
   "execution_count": 52,
   "metadata": {},
   "outputs": [
    {
     "name": "stderr",
     "output_type": "stream",
     "text": [
      "2024-05-29 12:52:39,725 - 9784 - __init__.py-__init__:518 - WARNING: Overriding of current TracerProvider is not allowed\n"
     ]
    },
    {
     "name": "stdout",
     "output_type": "stream",
     "text": [
      "\u001b[1m\u001b[95m [DEBUG]: == Working Agent: Marketing and Copy writing Head\u001b[00m\n",
      "\u001b[1m\u001b[95m [INFO]: == Starting Task: The adidas casual sandals for men. Features stylish webbing straps, Diecut EVA midsole for stable cushioning and abrasion resistant rubber outsole with wet and dry traction pattern. \n",
      "Give a boost to your running or jogging sessions wearing these 8K running shoes for men. Featuring mesh and suede upper, these lace-ups are durable, light in weight and comfortable to wear. Furthermore, the grooved rubber outsole will provide better traction on the different surfaces.\n",
      "These men's running shoes will get you on the road to your goals. A sandwich mesh upper offers lightweight breathability, while a seamless print overlay adds support for a stable stride. The midsole offers pillow-soft Cloudfoam cushioning that eases every stride.\n",
      "The adidas casual slippers for men with a striking camouflage design. Features stylish webbing straps, Diecut EVA midsole for stable cushioning and abrasion resistant rubber outsole with wet and dry traction pattern. \n",
      "Move swiftly through the mountains in these men's hiking shoes. The lightweight, breathable build features a speed lacing system. A rugged Traxion outsole with grippy Continentalâ¢ Rubber supports travel over any terrain, wet or dry.\n",
      "Sleek running shoes for men. These shoes have a lightweight look and feel in honeycomb mesh. Cloudfoam cushioning delivers superior step-in comfort.\n",
      "These men's running shoes keep you comfortable so you stay focused on your\n",
      "running goals. They feature a textile upper that wraps around the midfoot to give\n",
      "you stability where you need it most.\n",
      "These men's running shoes keep you comfortable so you stay focused on your\n",
      "training goals. They feature a textile upper and a cushioned IMEVA midsole provides all-day comfort with rubber outsole for best durability in high wear areas. \n",
      "These lightweight running shoes for men give all round comfort, cushioning, durability & support in a simplistic design. The mesh upper ensure breathability and durability while the Lightstrike IMEVA midsole provides premium cushioning. Non-Marking Rubber outsole provides durability.\n",
      "These men's running shoes keep you comfortable so you stay focused on your goals. They feature a textile, mesh and synthetic upper along with Cloudfoam midsole provides optimum cushioning  where you need it most and durable Rubber outsole for long-lasting wear. \n",
      "\u001b[00m\n",
      "\n",
      "\n",
      "\u001b[1m> Entering new CrewAgentExecutor chain...\u001b[0m\n",
      "\u001b[32;1m\u001b[1;3m\u001b[0m"
     ]
    },
    {
     "name": "stderr",
     "output_type": "stream",
     "text": [
      "2024-05-29 12:52:41,307 - 9784 - __init__.py-__init__:518 - WARNING: Overriding of current TracerProvider is not allowed\n"
     ]
    },
    {
     "name": "stdout",
     "output_type": "stream",
     "text": [
      "\u001b[32;1m\u001b[1;3mThought: I now can give a great answer\n",
      "\n",
      "Final Answer: \"Step Up Your Comfort Game\"\u001b[0m\n",
      "\n",
      "\u001b[1m> Finished chain.\u001b[0m\n",
      "\u001b[1m\u001b[92m [DEBUG]: == [Marketing and Copy writing Head] Task output: \"Step Up Your Comfort Game\"\n",
      "\n",
      "\u001b[00m\n",
      "\u001b[1m\u001b[95m [DEBUG]: == Working Agent: Senior Marketing and Copy writing Executive\u001b[00m\n",
      "\u001b[1m\u001b[95m [INFO]: == Starting Task: The adidas casual sandals for men. Features stylish webbing straps, Diecut EVA midsole for stable cushioning and abrasion resistant rubber outsole with wet and dry traction pattern. \n",
      "Give a boost to your running or jogging sessions wearing these 8K running shoes for men. Featuring mesh and suede upper, these lace-ups are durable, light in weight and comfortable to wear. Furthermore, the grooved rubber outsole will provide better traction on the different surfaces.\n",
      "These men's running shoes will get you on the road to your goals. A sandwich mesh upper offers lightweight breathability, while a seamless print overlay adds support for a stable stride. The midsole offers pillow-soft Cloudfoam cushioning that eases every stride.\n",
      "The adidas casual slippers for men with a striking camouflage design. Features stylish webbing straps, Diecut EVA midsole for stable cushioning and abrasion resistant rubber outsole with wet and dry traction pattern. \n",
      "Move swiftly through the mountains in these men's hiking shoes. The lightweight, breathable build features a speed lacing system. A rugged Traxion outsole with grippy Continentalâ¢ Rubber supports travel over any terrain, wet or dry.\n",
      "Sleek running shoes for men. These shoes have a lightweight look and feel in honeycomb mesh. Cloudfoam cushioning delivers superior step-in comfort.\n",
      "These men's running shoes keep you comfortable so you stay focused on your\n",
      "running goals. They feature a textile upper that wraps around the midfoot to give\n",
      "you stability where you need it most.\n",
      "These men's running shoes keep you comfortable so you stay focused on your\n",
      "training goals. They feature a textile upper and a cushioned IMEVA midsole provides all-day comfort with rubber outsole for best durability in high wear areas. \n",
      "These lightweight running shoes for men give all round comfort, cushioning, durability & support in a simplistic design. The mesh upper ensure breathability and durability while the Lightstrike IMEVA midsole provides premium cushioning. Non-Marking Rubber outsole provides durability.\n",
      "These men's running shoes keep you comfortable so you stay focused on your goals. They feature a textile, mesh and synthetic upper along with Cloudfoam midsole provides optimum cushioning  where you need it most and durable Rubber outsole for long-lasting wear. \n",
      "\u001b[00m\n",
      "\n",
      "\n",
      "\u001b[1m> Entering new CrewAgentExecutor chain...\u001b[0m\n"
     ]
    },
    {
     "name": "stderr",
     "output_type": "stream",
     "text": [
      "2024-05-29 12:52:44,219 - 9784 - __init__.py-__init__:518 - WARNING: Overriding of current TracerProvider is not allowed\n"
     ]
    },
    {
     "name": "stdout",
     "output_type": "stream",
     "text": [
      "\u001b[32;1m\u001b[1;3mFinal Answer:\n",
      "\n",
      "**Introducing the Ultimate Comfort and Performance: adidas Casual Sandals for Men**\n",
      "\n",
      "Step into comfort and style with the adidas Casual Sandals for men. Designed for the modern man who values both form and function, these sandals boast a sleek and stylish design that's perfect for everyday wear.\n",
      "\n",
      "**Key Features:**\n",
      "\n",
      "* **Stylish Webbing Straps:** Adjustable straps provide a secure and comfortable fit, while the webbing material adds a touch of sophistication to your overall look.\n",
      "* **Diecut EVA Midsole:** Provides stable cushioning and support for your feet, ensuring a comfortable stride.\n",
      "* **Abrasion Resistant Rubber Outsole:** With a wet and dry traction pattern, this outsole provides excellent grip on various surfaces, making it perfect for casual outings or light outdoor activities.\n",
      "\n",
      "Whether you're running errands, meeting friends, or simply lounging around, these sandals are the perfect choice. With their lightweight and breathable design, you'll feel like you're walking on clouds.\n",
      "\n",
      "**Experience the Comfort and Style:**\n",
      "\n",
      "* **Lightweight and Breathable:** The sandals' mesh upper allows for airflow, keeping your feet cool and dry.\n",
      "* **Stable and Supportive:** The Diecut EVA midsole provides excellent cushioning and support, ensuring a comfortable fit.\n",
      "* **Grip and Traction:** The abrasion-resistant rubber outsole provides excellent grip on various surfaces, giving you confidence and stability.\n",
      "\n",
      "**Upgrade Your Footwear Game:**\n",
      "\n",
      "Ditch the ordinary and upgrade to the adidas Casual Sandals for men. With their stylish design, comfortable fit, and excellent performance, these sandals are the perfect choice for any occasion. Treat your feet to the ultimate comfort and style experience.\u001b[0m\n",
      "\n",
      "\u001b[1m> Finished chain.\u001b[0m\n",
      "\u001b[1m\u001b[92m [DEBUG]: == [Senior Marketing and Copy writing Executive] Task output: **Introducing the Ultimate Comfort and Performance: adidas Casual Sandals for Men**\n",
      "\n",
      "Step into comfort and style with the adidas Casual Sandals for men. Designed for the modern man who values both form and function, these sandals boast a sleek and stylish design that's perfect for everyday wear.\n",
      "\n",
      "**Key Features:**\n",
      "\n",
      "* **Stylish Webbing Straps:** Adjustable straps provide a secure and comfortable fit, while the webbing material adds a touch of sophistication to your overall look.\n",
      "* **Diecut EVA Midsole:** Provides stable cushioning and support for your feet, ensuring a comfortable stride.\n",
      "* **Abrasion Resistant Rubber Outsole:** With a wet and dry traction pattern, this outsole provides excellent grip on various surfaces, making it perfect for casual outings or light outdoor activities.\n",
      "\n",
      "Whether you're running errands, meeting friends, or simply lounging around, these sandals are the perfect choice. With their lightweight and breathable design, you'll feel like you're walking on clouds.\n",
      "\n",
      "**Experience the Comfort and Style:**\n",
      "\n",
      "* **Lightweight and Breathable:** The sandals' mesh upper allows for airflow, keeping your feet cool and dry.\n",
      "* **Stable and Supportive:** The Diecut EVA midsole provides excellent cushioning and support, ensuring a comfortable fit.\n",
      "* **Grip and Traction:** The abrasion-resistant rubber outsole provides excellent grip on various surfaces, giving you confidence and stability.\n",
      "\n",
      "**Upgrade Your Footwear Game:**\n",
      "\n",
      "Ditch the ordinary and upgrade to the adidas Casual Sandals for men. With their stylish design, comfortable fit, and excellent performance, these sandals are the perfect choice for any occasion. Treat your feet to the ultimate comfort and style experience.\n",
      "\n",
      "\u001b[00m\n",
      "\u001b[1m\u001b[95m [DEBUG]: == Working Agent: Marketing and Copy writing Analyst\u001b[00m\n",
      "\u001b[1m\u001b[95m [INFO]: == Starting Task: MEN'S ADIDAS RUNNING DURAMO 9 SHOES,Men's Outdoor Terrex Swift R2 Shoes,Men's adidas Running Duramo 9 Shoes,Men's adidas Running Victriox Shoes,Men's adidas Running Thrum Shoes,Men's Running Remit Shoes,Men's Running Staredge Shoes,MEN'S ADIDAS RUNNING 8K SHOES,Men's adidas Running Dubbers Shoes,Men's adidas Toe Side Slippers,\u001b[00m\n",
      "\n",
      "\n",
      "\u001b[1m> Entering new CrewAgentExecutor chain...\u001b[0m\n",
      "\u001b[32;1m\u001b[1;3mI'm ready to give it my all! I'll create a list of products with a one-line description for each. Here's my thought process:\n",
      "\n",
      "\"Time to unleash my marketing magic and make these products shine!\"\n",
      "\n",
      "Final Answer:\n",
      "\n",
      "1. MEN'S ADIDAS RUNNING DURAMO 9 SHOES - Experience the ultimate running companion with the Duramo 9, designed for comfort and performance.\n",
      "2. Men's Outdoor Terrex Swift R2 Shoes - Take your outdoor adventures to the next level with these rugged and reliable trail running shoes.\n",
      "3. Men's adidas Running Duramo 9 Shoes - Get ready to crush your fitness goals with the Duramo 9, engineered for speed and agility.\n",
      "4. Men's adidas Running Victriox Shoes - Unleash your inner champion with the Victriox, designed for high-intensity training and competition.\n",
      "5. Men's adidas Running Thrum Shoes - Stay ahead of the game with the Thrum, engineered for speed and agility on any terrain.\n",
      "6. Men's Running Remit Shoes - Send your runs into orbit with the Remit, designed for comfort and performance on any surface.\n",
      "7. Men's Running Staredge Shoes - Take your running to new heights with the Staredge, engineered for stability and support.\n",
      "8. MEN'S ADIDAS RUNNING 8K SHOES - Reach new heights with the 8K, designed for speed and agility on any terrain.\n",
      "9. Men's adidas Running Dubbers Shoes - Get ready to take your runs to the next level with the Dubbers, engineered for comfort and performance.\n",
      "10. Men's adidas Toe Side Slippers - Slip into comfort with the Toe Side Slippers, designed for relaxation and leisure.\n",
      "\n",
      "There you have it!\u001b[0m\n",
      "\n",
      "\u001b[1m> Finished chain.\u001b[0m\n",
      "\u001b[1m\u001b[92m [DEBUG]: == [Marketing and Copy writing Analyst] Task output: 1. MEN'S ADIDAS RUNNING DURAMO 9 SHOES - Experience the ultimate running companion with the Duramo 9, designed for comfort and performance.\n",
      "2. Men's Outdoor Terrex Swift R2 Shoes - Take your outdoor adventures to the next level with these rugged and reliable trail running shoes.\n",
      "3. Men's adidas Running Duramo 9 Shoes - Get ready to crush your fitness goals with the Duramo 9, engineered for speed and agility.\n",
      "4. Men's adidas Running Victriox Shoes - Unleash your inner champion with the Victriox, designed for high-intensity training and competition.\n",
      "5. Men's adidas Running Thrum Shoes - Stay ahead of the game with the Thrum, engineered for speed and agility on any terrain.\n",
      "6. Men's Running Remit Shoes - Send your runs into orbit with the Remit, designed for comfort and performance on any surface.\n",
      "7. Men's Running Staredge Shoes - Take your running to new heights with the Staredge, engineered for stability and support.\n",
      "8. MEN'S ADIDAS RUNNING 8K SHOES - Reach new heights with the 8K, designed for speed and agility on any terrain.\n",
      "9. Men's adidas Running Dubbers Shoes - Get ready to take your runs to the next level with the Dubbers, engineered for comfort and performance.\n",
      "10. Men's adidas Toe Side Slippers - Slip into comfort with the Toe Side Slippers, designed for relaxation and leisure.\n",
      "\n",
      "There you have it!\n",
      "\n",
      "\u001b[00m\n"
     ]
    }
   ],
   "source": [
    "result = agent_pipeline(query=\"men's casual shoes\")"
   ]
  },
  {
   "cell_type": "code",
   "execution_count": 53,
   "metadata": {},
   "outputs": [
    {
     "data": {
      "text/plain": [
       "{'tagline': '\"Step Up Your Comfort Game\"',\n",
       " 'product_description': \"**Introducing the Ultimate Comfort and Performance: adidas Casual Sandals for Men**\\n\\nStep into comfort and style with the adidas Casual Sandals for men. Designed for the modern man who values both form and function, these sandals boast a sleek and stylish design that's perfect for everyday wear.\\n\\n**Key Features:**\\n\\n* **Stylish Webbing Straps:** Adjustable straps provide a secure and comfortable fit, while the webbing material adds a touch of sophistication to your overall look.\\n* **Diecut EVA Midsole:** Provides stable cushioning and support for your feet, ensuring a comfortable stride.\\n* **Abrasion Resistant Rubber Outsole:** With a wet and dry traction pattern, this outsole provides excellent grip on various surfaces, making it perfect for casual outings or light outdoor activities.\\n\\nWhether you're running errands, meeting friends, or simply lounging around, these sandals are the perfect choice. With their lightweight and breathable design, you'll feel like you're walking on clouds.\\n\\n**Experience the Comfort and Style:**\\n\\n* **Lightweight and Breathable:** The sandals' mesh upper allows for airflow, keeping your feet cool and dry.\\n* **Stable and Supportive:** The Diecut EVA midsole provides excellent cushioning and support, ensuring a comfortable fit.\\n* **Grip and Traction:** The abrasion-resistant rubber outsole provides excellent grip on various surfaces, giving you confidence and stability.\\n\\n**Upgrade Your Footwear Game:**\\n\\nDitch the ordinary and upgrade to the adidas Casual Sandals for men. With their stylish design, comfortable fit, and excellent performance, these sandals are the perfect choice for any occasion. Treat your feet to the ultimate comfort and style experience.\",\n",
       " 'products_list': \"1. MEN'S ADIDAS RUNNING DURAMO 9 SHOES - Experience the ultimate running companion with the Duramo 9, designed for comfort and performance.\\n2. Men's Outdoor Terrex Swift R2 Shoes - Take your outdoor adventures to the next level with these rugged and reliable trail running shoes.\\n3. Men's adidas Running Duramo 9 Shoes - Get ready to crush your fitness goals with the Duramo 9, engineered for speed and agility.\\n4. Men's adidas Running Victriox Shoes - Unleash your inner champion with the Victriox, designed for high-intensity training and competition.\\n5. Men's adidas Running Thrum Shoes - Stay ahead of the game with the Thrum, engineered for speed and agility on any terrain.\\n6. Men's Running Remit Shoes - Send your runs into orbit with the Remit, designed for comfort and performance on any surface.\\n7. Men's Running Staredge Shoes - Take your running to new heights with the Staredge, engineered for stability and support.\\n8. MEN'S ADIDAS RUNNING 8K SHOES - Reach new heights with the 8K, designed for speed and agility on any terrain.\\n9. Men's adidas Running Dubbers Shoes - Get ready to take your runs to the next level with the Dubbers, engineered for comfort and performance.\\n10. Men's adidas Toe Side Slippers - Slip into comfort with the Toe Side Slippers, designed for relaxation and leisure.\\n\\nThere you have it!\"}"
      ]
     },
     "execution_count": 53,
     "metadata": {},
     "output_type": "execute_result"
    }
   ],
   "source": [
    "print(result)"
   ]
  },
  {
   "cell_type": "code",
   "execution_count": null,
   "metadata": {},
   "outputs": [],
   "source": []
  }
 ],
 "metadata": {
  "kernelspec": {
   "display_name": "Python 3",
   "language": "python",
   "name": "python3"
  },
  "language_info": {
   "codemirror_mode": {
    "name": "ipython",
    "version": 3
   },
   "file_extension": ".py",
   "mimetype": "text/x-python",
   "name": "python",
   "nbconvert_exporter": "python",
   "pygments_lexer": "ipython3",
   "version": "3.10.13"
  }
 },
 "nbformat": 4,
 "nbformat_minor": 2
}
